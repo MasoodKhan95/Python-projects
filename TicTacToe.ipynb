{
 "cells": [
  {
   "cell_type": "code",
   "execution_count": 1,
   "metadata": {},
   "outputs": [],
   "source": [
    "from IPython.display import clear_output\n",
    "def display_board(board):\n",
    "    clear_output()\n",
    "    print('  '+' |'+'   '+'|'+'  ')\n",
    "    print(' ' +board[6]+' | '+board[7]+' | '+board[8])\n",
    "    print('  '+' |'+'   '+'|'+'  ')\n",
    "    print('---'+'+-'+'--'+'+-'+'--')\n",
    "    print('  '+' |'+'   '+'|'+'  ')\n",
    "    print(' ' +board[3]+' | '+board[4]+' | '+board[5])\n",
    "    print('  '+' |'+'   '+'|'+'  ')\n",
    "    print('---'+'+-'+'--'+'+-'+'--')\n",
    "    print('  '+' |'+'   '+'|'+'  ')\n",
    "    print(' ' +board[0]+' | '+board[1]+' | '+board[2])\n",
    "    print('  '+' |'+'   '+'|'+'  ')"
   ]
  },
  {
   "cell_type": "code",
   "execution_count": 2,
   "metadata": {},
   "outputs": [],
   "source": [
    "def player_input():\n",
    "    marker = ' '\n",
    "    a_values = ['X','O']\n",
    "    while marker not in a_values:\n",
    "        marker = input('Please choose an X or O for Player 1:').upper()\n",
    "        if marker=='X':\n",
    "            player1= 'X'\n",
    "            player2= \"O\"\n",
    "        else:\n",
    "            player1 ='O'\n",
    "            player2 ='X'\n",
    "    return(player1,player2)"
   ]
  },
  {
   "cell_type": "code",
   "execution_count": 3,
   "metadata": {},
   "outputs": [],
   "source": [
    "def place_marker(board, marker, position):\n",
    "    board[position] = marker"
   ]
  },
  {
   "cell_type": "code",
   "execution_count": 4,
   "metadata": {},
   "outputs": [],
   "source": [
    "def win_check(board, mark):\n",
    "    if board[0] == mark and board[1] ==mark and board[2] ==mark:\n",
    "        return True\n",
    "    elif board[0] == mark and board[3] ==mark and board[6] ==mark:\n",
    "        return True\n",
    "    elif board[0] == mark and board[4] ==mark and board[8] ==mark:\n",
    "        return True\n",
    "    elif board[1] == mark and board[4] ==mark and board[7] ==mark:\n",
    "        return True\n",
    "    elif board[2] == mark and board[4] ==mark and board[6] ==mark:\n",
    "        return True\n",
    "    elif board[2] == mark and board[5] ==mark and board[8] ==mark:\n",
    "        return True \n",
    "    elif board[3] == mark and board[4] ==mark and board[5] ==mark:\n",
    "        return True\n",
    "    elif board[6] == mark and board[7] ==mark and board[8] ==mark:\n",
    "        return True\n",
    "    else:\n",
    "        return False"
   ]
  },
  {
   "cell_type": "code",
   "execution_count": 5,
   "metadata": {},
   "outputs": [],
   "source": [
    "import random\n",
    "\n",
    "def choose_first():\n",
    "    first = random.randint(1,2) \n",
    "    if first ==1:\n",
    "        return 'Player1'\n",
    "    else:\n",
    "        return 'Player2'"
   ]
  },
  {
   "cell_type": "code",
   "execution_count": 6,
   "metadata": {},
   "outputs": [],
   "source": [
    "def space_check(board, position):\n",
    "    if board[position] == ' ':\n",
    "        return True\n",
    "    else:\n",
    "        return False"
   ]
  },
  {
   "cell_type": "code",
   "execution_count": 7,
   "metadata": {},
   "outputs": [],
   "source": [
    "def full_board_check(board):\n",
    "    if ' ' not in board:\n",
    "        return True \n",
    "    else: \n",
    "        return False"
   ]
  },
  {
   "cell_type": "code",
   "execution_count": 8,
   "metadata": {},
   "outputs": [],
   "source": [
    "def player_choice(board):\n",
    "    choice = ''\n",
    "    a_range = range(0,9)\n",
    "    while choice not in a_range or space_check(board, choice)==False:\n",
    "        choice = input(\"Pick a position from 1-9:\")\n",
    "        if choice.isdigit():\n",
    "            choice = int(choice)-1\n",
    "            if choice in a_range:\n",
    "                if space_check(board, choice):\n",
    "                    return choice\n",
    "                else:\n",
    "                    print(\"That spot is taken!\")\n",
    "    "
   ]
  },
  {
   "cell_type": "code",
   "execution_count": 9,
   "metadata": {},
   "outputs": [],
   "source": [
    "def replay():\n",
    "    play = ''\n",
    "    a_values = ['Y','N']\n",
    "    while play not in a_values:\n",
    "        play = input('Do you want to play again? Y or N ').upper()\n",
    "        if play == 'Y': \n",
    "            return True\n",
    "        if play == 'N': \n",
    "            return False"
   ]
  },
  {
   "cell_type": "code",
   "execution_count": 11,
   "metadata": {},
   "outputs": [
    {
     "name": "stdout",
     "output_type": "stream",
     "text": [
      "   |   |  \n",
      "   |   | X\n",
      "   |   |  \n",
      "---+---+---\n",
      "   |   |  \n",
      "   | X |  \n",
      "   |   |  \n",
      "---+---+---\n",
      "   |   |  \n",
      " X | O | O\n",
      "   |   |  \n",
      "Player1 has won!\n"
     ]
    },
    {
     "name": "stdin",
     "output_type": "stream",
     "text": [
      "Do you want to play again? Y or N  n\n"
     ]
    }
   ],
   "source": [
    "\n",
    "    print('Welcome to Tic Tac Toe!')\n",
    "    \n",
    "    while True:\n",
    "        current_board = [' ',' ',' ',' ',' ',' ',' ',' ',' ']\n",
    "        game_on = True\n",
    "        player1_mark, player2_mark = player_input()\n",
    "        turn = choose_first()\n",
    "        print(turn+' will go first.')\n",
    "        play_game = input('Are you ready to play? Enter Yes or No.').lower()\n",
    "        if play_game == 'yes':\n",
    "            game_on = True\n",
    "        else:\n",
    "            game_on = False\n",
    "        \n",
    "        while game_on:\n",
    "            if turn == 'Player1':\n",
    "                display_board(current_board)\n",
    "                print(\"Player1's turn\") \n",
    "                position = player_choice(current_board)\n",
    "                place_marker(current_board,player1_mark,position)\n",
    "                display_board(current_board) \n",
    "                if win_check(current_board,player1_mark):\n",
    "                    print(\"Player1 has won!\")\n",
    "                    game_on = False\n",
    "                else:\n",
    "                    if full_board_check(current_board):\n",
    "                        print('The game is a draw!')\n",
    "                        break\n",
    "                    else:\n",
    "                        turn = 'Player2'\n",
    "            if turn == 'Player2':\n",
    "                \n",
    "                display_board(current_board)\n",
    "                print(\"Player2's turn\")     \n",
    "                position = player_choice(current_board) \n",
    "                place_marker(current_board,player2_mark,position)\n",
    "                display_board(current_board) \n",
    "                if win_check(current_board,player2_mark):\n",
    "                    print(\"Player2 has won!\")\n",
    "                    game_on = False\n",
    "                else:\n",
    "                    if full_board_check(current_board):\n",
    "                        print('The game is a draw!')\n",
    "                        break\n",
    "                    else:\n",
    "                        turn = 'Player1'\n",
    "            \n",
    "        if not replay():\n",
    "                break\n",
    "                \n",
    "            "
   ]
  },
  {
   "cell_type": "code",
   "execution_count": null,
   "metadata": {},
   "outputs": [],
   "source": []
  },
  {
   "cell_type": "code",
   "execution_count": null,
   "metadata": {},
   "outputs": [],
   "source": []
  }
 ],
 "metadata": {
  "kernelspec": {
   "display_name": "Python 3",
   "language": "python",
   "name": "python3"
  },
  "language_info": {
   "codemirror_mode": {
    "name": "ipython",
    "version": 3
   },
   "file_extension": ".py",
   "mimetype": "text/x-python",
   "name": "python",
   "nbconvert_exporter": "python",
   "pygments_lexer": "ipython3",
   "version": "3.7.4"
  }
 },
 "nbformat": 4,
 "nbformat_minor": 4
}
